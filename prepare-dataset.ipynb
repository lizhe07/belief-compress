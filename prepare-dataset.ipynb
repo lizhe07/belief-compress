{
 "cells": [
  {
   "cell_type": "code",
   "execution_count": 1,
   "id": "7d1b6582-1877-47e5-b947-8309bc0c6f05",
   "metadata": {},
   "outputs": [],
   "source": [
    "%matplotlib inline\n",
    "import matplotlib.pyplot as plt\n",
    "plt.rcParams.update({\n",
    "    'font.size': 15, 'lines.linewidth': 2,\n",
    "    'xtick.labelsize': 13, 'ytick.labelsize': 13,\n",
    "    'axes.spines.top': False, 'axes.spines.right': False,\n",
    "    'figure.dpi': 72, 'savefig.dpi': 1200,\n",
    "})\n",
    "\n",
    "import pickle\n",
    "import numpy as np\n",
    "\n",
    "rng = np.random.default_rng()"
   ]
  },
  {
   "cell_type": "code",
   "execution_count": 2,
   "id": "a198fa91-3768-4209-852d-40d37fb84d33",
   "metadata": {},
   "outputs": [
    {
     "name": "stdout",
     "output_type": "stream",
     "text": [
      "A sample beta distribution discretized into 10 bins\n"
     ]
    },
    {
     "data": {
      "image/png": "[encoded data removed]",
      "text/plain": [
       "<Figure size 360x216 with 1 Axes>"
      ]
     },
     "metadata": {},
     "output_type": "display_data"
    }
   ],
   "source": [
    "from scipy.stats import beta\n",
    "\n",
    "num_bins = 10\n",
    "xs = (np.arange(num_bins)+0.5)/num_bins\n",
    "\n",
    "a, b = rng.uniform(low=2, high=10, size=2)\n",
    "ps = beta.pdf(xs, a, b)\n",
    "ps /= ps.sum()\n",
    "\n",
    "print(f\"A sample beta distribution discretized into {num_bins} bins\")\n",
    "_, ax = plt.subplots(figsize=(5, 3))\n",
    "ax.bar(xs, ps, width=1/num_bins, edgecolor='cyan')\n",
    "ax.set_xlabel(r'$x$')\n",
    "ax.set_ylabel(r'$p(x)$')\n",
    "ax.set_title(r'$B(a={:.2f}, b={:.2f})$'.format(a, b))\n",
    "plt.show()"
   ]
  },
  {
   "cell_type": "code",
   "execution_count": 3,
   "id": "051e03fb-719d-4710-86fd-c4153ce28665",
   "metadata": {},
   "outputs": [
    {
     "name": "stdout",
     "output_type": "stream",
     "text": [
      "50000 sample beta distributions generated and saved in dataset_beta.pickle\n"
     ]
    }
   ],
   "source": [
    "num_samples = 50000\n",
    "\n",
    "params, ps = [], []\n",
    "for _ in range(num_samples):\n",
    "    a, b = rng.uniform(low=2, high=10, size=2)\n",
    "    params.append((a, b))\n",
    "    _ps = beta.pdf(xs, a, b)\n",
    "    _ps /= _ps.sum()\n",
    "    ps.append(_ps)\n",
    "params = np.array(params)\n",
    "ps = np.stack(ps)\n",
    "\n",
    "save_path = 'dataset_beta.pickle'\n",
    "with open(save_path, 'wb') as f:\n",
    "    pickle.dump({\n",
    "        'xs': xs, 'params': params, 'ps': ps,\n",
    "    }, f)\n",
    "print(f\"{num_samples} sample beta distributions generated and saved in {save_path}\")"
   ]
  }
 ],
 "metadata": {
  "kernelspec": {
   "display_name": "Python 3 (ipykernel)",
   "language": "python",
   "name": "python3"
  },
  "language_info": {
   "codemirror_mode": {
    "name": "ipython",
    "version": 3
   },
   "file_extension": ".py",
   "mimetype": "text/x-python",
   "name": "python",
   "nbconvert_exporter": "python",
   "pygments_lexer": "ipython3",
   "version": "3.9.15"
  }
 },
 "nbformat": 4,
 "nbformat_minor": 5
}
